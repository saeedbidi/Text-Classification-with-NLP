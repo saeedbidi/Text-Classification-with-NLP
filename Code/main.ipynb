import nltk
from nltk.corpus import reuters
from sklearn.model_selection import train_test_split
from sklearn.feature_extraction.text import CountVectorizer
from sklearn.naive_bayes import MultinomialNB
from sklearn.metrics import accuracy_score, classification_report

# Download the Reuters dataset from NLTK
nltk.download('reuters')

# Get all possible categories in the Reuters corpus
all_categories = reuters.categories()

# Print the list of categories
print("All Possible Categories:")
print(all_categories)


# Load a subset of the Reuters dataset
categories = ['earn', 'acq', 'nat-gas']
documents = [(reuters.raw(fileid), category)
             for category in categories
             for fileid in reuters.fileids(category)[:50]]  # Limit to 50 documents for simplicity

# Shuffle the documents
import random
random.shuffle(documents)

# Separate features (text) and labels (earn/acq)
X = [document for document, label in documents]
y = [label for document, label in documents]

# Split the dataset into training and testing sets
X_train, X_test, y_train, y_test = train_test_split(X, y, test_size=0.2, random_state=42)

# Vectorize the text data
vectorizer = CountVectorizer()
X_train_vec = vectorizer.fit_transform(X_train)
X_test_vec = vectorizer.transform(X_test)

# Train a Naive Bayes classifier
classifier = MultinomialNB()
classifier.fit(X_train_vec, y_train)

# Test the classifier
predicted_labels = classifier.predict(X_test_vec)

# Evaluate the accuracy
accuracy = accuracy_score(y_test, predicted_labels)
print(f"Accuracy: {accuracy:.2%}")

# Display classification report
print("Classification Report:\n", classification_report(y_test, predicted_labels))

# Sample news articles
earnings_article = """
TechCorp announced record-breaking earnings in the third quarter of this year. The company's profits soared by 20%, driven by strong sales of their latest products.
"""

acquisitions_article = """
In a major move, Company XYZ has acquired ABC Corp, marking a significant consolidation in the industry. The acquisition is expected to strengthen their market presence and drive future growth.
"""
test_article = '''UK is importing'''
sugar_article = """
 earning high blood pressure for gas
"""
# Combine the articles into a list
news_articles = [earnings_article, acquisitions_article, sugar_article, test_article]

# Vectorize the text data
X_test_vec = vectorizer.transform(news_articles)

# Predict the labels using the trained classifier
predicted_labels = classifier.predict(X_test_vec)

# Display the predicted labels for each article
for article, label in zip(news_articles, predicted_labels):
    print(f"Article:\n{article}\nPredicted Label: {label}\n{'='*50}\n")
